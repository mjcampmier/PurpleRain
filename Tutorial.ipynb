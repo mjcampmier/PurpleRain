{
 "cells": [
  {
   "cell_type": "markdown",
   "metadata": {},
   "source": [
    "# Step 1: Import Necessary Modules"
   ]
  },
  {
   "cell_type": "markdown",
   "metadata": {},
   "source": [
    "os is a built-in library used in part for building universal paths.\n",
    "\n",
    "PurpleRainLS is the underlying code for PurpleRain."
   ]
  },
  {
   "cell_type": "code",
   "execution_count": null,
   "metadata": {},
   "outputs": [],
   "source": [
    "import os\n",
    "import PurpleRainLS as pr"
   ]
  },
  {
   "cell_type": "markdown",
   "metadata": {},
   "source": [
    "# Step 2: Setup Variables"
   ]
  },
  {
   "cell_type": "markdown",
   "metadata": {},
   "source": [
    "#### sensor_list is a csv file containing only one column with no header of sensors, one sensor per row.\n",
    "##### os.cwd() creates a string of the root path to this location\n",
    "##### os.path.join() concatenates two path strings using the operating system's format\n",
    "\n",
    "#### start_date and end_date are the starting and end points of the download. They following the string form of 'YYYY-MM-DD'.\n",
    "\n",
    "#### hdf_filename is the name of the hdf file to be built, no ending is required (no .h5 or .hdf).\n",
    "\n",
    "#### timezone_string is the local timezone conversion. Full list here: https://bit.ly/3bqoZ8P"
   ]
  },
  {
   "cell_type": "code",
   "execution_count": null,
   "metadata": {},
   "outputs": [],
   "source": [
    "sensor_list = os.path.join(os.getcwd(),'SAMPLE.csv')\n",
    "start_date = '2020-03-01'\n",
    "end_date = '2020-03-03'\n",
    "hdf_filename = 'TEST'\n",
    "timezone_string = 'Asia/Calcutta'"
   ]
  },
  {
   "cell_type": "markdown",
   "metadata": {},
   "source": [
    "# Step 3: Run function"
   ]
  },
  {
   "cell_type": "code",
   "execution_count": null,
   "metadata": {},
   "outputs": [],
   "source": [
    "pr.download_list(sensor_list, start_date, end_date, \n",
    "                        hdf_filename, timezone_string)"
   ]
  }
 ],
 "metadata": {
  "kernelspec": {
   "display_name": "Python 3",
   "language": "python",
   "name": "python3"
  },
  "language_info": {
   "codemirror_mode": {
    "name": "ipython",
    "version": 3
   },
   "file_extension": ".py",
   "mimetype": "text/x-python",
   "name": "python",
   "nbconvert_exporter": "python",
   "pygments_lexer": "ipython3",
   "version": "3.7.4"
  }
 },
 "nbformat": 4,
 "nbformat_minor": 2
}
