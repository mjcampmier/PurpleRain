{
 "cells": [
  {
   "cell_type": "code",
   "execution_count": 7,
   "metadata": {},
   "outputs": [],
   "source": [
    "import os\n",
    "import PurpleRainLS as pr"
   ]
  },
  {
   "cell_type": "code",
   "execution_count": 8,
   "metadata": {},
   "outputs": [],
   "source": [
    "sensor_list = os.path.join(os.getcwd(),'SAMPLE.csv')\n",
    "start_date = '2020-03-01'\n",
    "end_date = '2020-03-03'\n",
    "hdf_filename = 'TEST'\n",
    "timezone_string = 'Asia/Calcutta'"
   ]
  },
  {
   "cell_type": "code",
   "execution_count": 9,
   "metadata": {},
   "outputs": [
    {
     "name": "stdout",
     "output_type": "stream",
     "text": [
      "Database successfully scraped.\n",
      "2020_03_01\n",
      "2020_03_01\n",
      "2020_03_01\n",
      "2020_03_01\n",
      "Successfully downloaded UT Sensor 60\n",
      "2020_03_01\n",
      "2020_03_01\n",
      "2020_03_01\n",
      "2020_03_01\n",
      "Successfully downloaded UT Sensor 61\n",
      "Filled HDF for UT_Sensor_60\n",
      "Filled HDF for UT_Sensor_61\n",
      "Successfully built .mat file.\n",
      "Successfully downloaded all sensors.\n"
     ]
    }
   ],
   "source": [
    "pr.download_list(sensor_list, start_date, end_date, \n",
    "                        hdf_filename, timezone_string)"
   ]
  },
  {
   "cell_type": "code",
   "execution_count": null,
   "metadata": {},
   "outputs": [],
   "source": []
  }
 ],
 "metadata": {
  "kernelspec": {
   "display_name": "Python 3",
   "language": "python",
   "name": "python3"
  },
  "language_info": {
   "codemirror_mode": {
    "name": "ipython",
    "version": 3
   },
   "file_extension": ".py",
   "mimetype": "text/x-python",
   "name": "python",
   "nbconvert_exporter": "python",
   "pygments_lexer": "ipython3",
   "version": "3.7.4"
  }
 },
 "nbformat": 4,
 "nbformat_minor": 2
}
