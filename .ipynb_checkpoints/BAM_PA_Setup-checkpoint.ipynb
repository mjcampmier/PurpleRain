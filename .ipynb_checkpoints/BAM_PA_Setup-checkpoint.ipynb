{
 "cells": [
  {
   "cell_type": "code",
   "execution_count": 1,
   "metadata": {},
   "outputs": [],
   "source": [
    "import pandas as pd\n",
    "import PurplePipeline as pp"
   ]
  },
  {
   "cell_type": "code",
   "execution_count": 2,
   "metadata": {},
   "outputs": [],
   "source": [
    "h5file = 'C:\\\\Users\\\\Mark\\\\Downloads\\\\IGP_Cal.h5'\n",
    "bamfile = 'C:\\\\Users\\\\Mark\\\\Downloads\\\\DT180318.csv'\n",
    "new_csvfile = 'C:\\\\Users\\\\Mark\\\\Downloads\\\\IGP_Cal2.csv' "
   ]
  },
  {
   "cell_type": "code",
   "execution_count": 3,
   "metadata": {},
   "outputs": [],
   "source": [
    "east = pp.PurpleAirNetwork().load_h5(h5file)\n",
    "flgs = east.flags()\n",
    "east_1hr = east.block_average('60T', flags=flgs)\n",
    "east_df = east_1hr.build_df('Asia/Calcutta')\n",
    "bam_df = pp.process_bam(bamfile, 'Asia/Calcutta')\n",
    "calibration = pd.concat([bam_df, east_df], axis=1)\n",
    "calibration = calibration.dropna(subset=['BAM'])\n",
    "calibration.to_csv(new_csvfile)"
   ]
  }
 ],
 "metadata": {
  "kernelspec": {
   "display_name": "Python 3",
   "language": "python",
   "name": "python3"
  },
  "language_info": {
   "codemirror_mode": {
    "name": "ipython",
    "version": 3
   },
   "file_extension": ".py",
   "mimetype": "text/x-python",
   "name": "python",
   "nbconvert_exporter": "python",
   "pygments_lexer": "ipython3",
   "version": "3.7.4"
  }
 },
 "nbformat": 4,
 "nbformat_minor": 2
}
