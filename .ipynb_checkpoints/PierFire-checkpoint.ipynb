{
 "cells": [
  {
   "cell_type": "code",
   "execution_count": 1,
   "metadata": {},
   "outputs": [],
   "source": [
    "import PurpleRainLS as pr\n",
    "import PurplePipeline as pp\n",
    "import pandas as pd\n",
    "import numpy as np\n",
    "import scipy.stats as stats\n",
    "import matplotlib.pyplot as plt"
   ]
  },
  {
   "cell_type": "code",
   "execution_count": 2,
   "metadata": {},
   "outputs": [
    {
     "name": "stdout",
     "output_type": "stream",
     "text": [
      "Database successfully scraped.\n"
     ]
    }
   ],
   "source": [
    "db = pr.download_database(drop=False)\n",
    "db = db[(db.Lat<=37.82)&(db.Lat>=37.71)&(db.Lon>=-122.53)&(db.Lon<=-122.33)]\n",
    "db = db[db.DEVICE_LOCATIONTYPE=='outside']\n",
    "db = db.iloc[:,[1,7,8]]\n",
    "db.to_csv('SF_Outdoor_Pier.csv', index=False, header=None)"
   ]
  },
  {
   "cell_type": "code",
   "execution_count": null,
   "metadata": {
    "scrolled": true
   },
   "outputs": [
    {
     "name": "stdout",
     "output_type": "stream",
     "text": [
      "Error connecting to PurpleAir server, check internet connection and retry in 2 minutes.\n"
     ]
    }
   ],
   "source": [
    "sensor_list_file = 'SF_Outdoor_Pier.csv'\n",
    "sd = '2020-05-16'\n",
    "ed = '2020-05-24'\n",
    "hdfname = 'SF_Outdoor_Pier'\n",
    "tz = 'America/Los_Angeles'\n",
    "\n",
    "pr.download_list(sensor_list_file, sd, ed, hdfname, tz)"
   ]
  }
 ],
 "metadata": {
  "kernelspec": {
   "display_name": "Python 3",
   "language": "python",
   "name": "python3"
  },
  "language_info": {
   "codemirror_mode": {
    "name": "ipython",
    "version": 3
   },
   "file_extension": ".py",
   "mimetype": "text/x-python",
   "name": "python",
   "nbconvert_exporter": "python",
   "pygments_lexer": "ipython3",
   "version": "3.7.4"
  }
 },
 "nbformat": 4,
 "nbformat_minor": 2
}
