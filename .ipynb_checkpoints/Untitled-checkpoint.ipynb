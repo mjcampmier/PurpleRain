{
 "cells": [
  {
   "cell_type": "code",
   "execution_count": 2,
   "metadata": {},
   "outputs": [],
   "source": [
    "import numpy as np\n",
    "import scipy.stats as stats\n",
    "import scipy.odr as odr\n",
    "import pandas as pd\n",
    "from sklearn.linear_model import LinearRegression\n",
    "from sklearn.model_selection import KFold\n",
    "from sklearn.pipeline import Pipeline\n",
    "import PurplePipeline as pp\n",
    "import matplotlib.pyplot as plt"
   ]
  },
  {
   "cell_type": "code",
   "execution_count": null,
   "metadata": {},
   "outputs": [],
   "source": [
    "def calibration(self, source, syy=3, sensor_list = \"all\"):\n",
    "    pnet_ba = PurpleAirNetwork()\n",
    "    n = dict()\n",
    "    keys = list(self.network.keys())\n",
    "    if (type(sensor_list) == list) | ((type(sensor_list)==str) & (sensor_list != \"all\")):\n",
    "        nkeys = set(keys) & set(sensor_list)\n",
    "        if len(nkeys) == 1:\n",
    "            \n",
    "        elif len(nkeys) > 1:\n",
    "            \n",
    "        else:\n",
    "            print(\"Sensor list is empty, check your spelling and retry\")\n",
    "    elif (type(sensor_list) == str) & (sensor_list == \"all\"):\n",
    "        for k in keys:\n",
    "            n[k] = self.network[k].calibrate(source, syy)\n",
    "    else:\n",
    "        print(\"Sensor list type is incorrect, please retry as a list of strings or the string 'all'\")\n",
    "    \n",
    "    pnet_ba.network = n\n",
    "    return pnet_ba"
   ]
  },
  {
   "cell_type": "code",
   "execution_count": 4,
   "metadata": {},
   "outputs": [
    {
     "data": {
      "text/plain": [
       "0"
      ]
     },
     "execution_count": 4,
     "metadata": {},
     "output_type": "execute_result"
    }
   ],
   "source": [
    "len(set())"
   ]
  },
  {
   "cell_type": "code",
   "execution_count": null,
   "metadata": {},
   "outputs": [],
   "source": []
  }
 ],
 "metadata": {
  "kernelspec": {
   "display_name": "Python 3",
   "language": "python",
   "name": "python3"
  },
  "language_info": {
   "codemirror_mode": {
    "name": "ipython",
    "version": 3
   },
   "file_extension": ".py",
   "mimetype": "text/x-python",
   "name": "python",
   "nbconvert_exporter": "python",
   "pygments_lexer": "ipython3",
   "version": "3.7.4"
  }
 },
 "nbformat": 4,
 "nbformat_minor": 2
}
